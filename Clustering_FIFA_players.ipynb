{
 "cells": [
  {
   "cell_type": "code",
   "execution_count": 11,
   "metadata": {},
   "outputs": [],
   "source": [
    "import pandas as pd\n",
    "import numpy as np"
   ]
  },
  {
   "cell_type": "code",
   "execution_count": 12,
   "metadata": {},
   "outputs": [
    {
     "name": "stderr",
     "output_type": "stream",
     "text": [
      "c:\\Users\\edon\\Anaconda3\\envs\\STANDARD\\lib\\site-packages\\IPython\\core\\interactiveshell.py:3457: DtypeWarning: Columns (25,108) have mixed types.Specify dtype option on import or set low_memory=False.\n",
      "  exec(code_obj, self.user_global_ns, self.user_ns)\n"
     ]
    }
   ],
   "source": [
    "players = pd.read_csv('players_22.csv')"
   ]
  },
  {
   "cell_type": "code",
   "execution_count": 13,
   "metadata": {},
   "outputs": [],
   "source": [
    "features = ['overall', 'potential', 'wage_eur', 'value_eur', 'age']"
   ]
  },
  {
   "cell_type": "code",
   "execution_count": 14,
   "metadata": {},
   "outputs": [],
   "source": [
    "players = players.dropna(subset=features)"
   ]
  },
  {
   "cell_type": "code",
   "execution_count": 15,
   "metadata": {},
   "outputs": [],
   "source": [
    "data = players[features].copy()"
   ]
  },
  {
   "attachments": {},
   "cell_type": "markdown",
   "metadata": {},
   "source": [
    "1. Scale the data\n",
    "2. Initialize random centroids\n",
    "3. Label each datapoint\n",
    "4. Update centroids\n",
    "5. Repeat 3 & 4 until centroids stop changing"
   ]
  },
  {
   "attachments": {},
   "cell_type": "markdown",
   "metadata": {},
   "source": [
    "1. Scale the data\n",
    "\n",
    "Scaling the data so that the min value is 1 and the max value is 10, we don't want a 0 so we add 1"
   ]
  },
  {
   "cell_type": "code",
   "execution_count": 16,
   "metadata": {},
   "outputs": [
    {
     "data": {
      "text/html": [
       "<div>\n",
       "<style scoped>\n",
       "    .dataframe tbody tr th:only-of-type {\n",
       "        vertical-align: middle;\n",
       "    }\n",
       "\n",
       "    .dataframe tbody tr th {\n",
       "        vertical-align: top;\n",
       "    }\n",
       "\n",
       "    .dataframe thead th {\n",
       "        text-align: right;\n",
       "    }\n",
       "</style>\n",
       "<table border=\"1\" class=\"dataframe\">\n",
       "  <thead>\n",
       "    <tr style=\"text-align: right;\">\n",
       "      <th></th>\n",
       "      <th>overall</th>\n",
       "      <th>potential</th>\n",
       "      <th>wage_eur</th>\n",
       "      <th>value_eur</th>\n",
       "      <th>age</th>\n",
       "    </tr>\n",
       "  </thead>\n",
       "  <tbody>\n",
       "    <tr>\n",
       "      <th>count</th>\n",
       "      <td>19165.000000</td>\n",
       "      <td>19165.000000</td>\n",
       "      <td>19165.000000</td>\n",
       "      <td>19165.000000</td>\n",
       "      <td>19165.000000</td>\n",
       "    </tr>\n",
       "    <tr>\n",
       "      <th>mean</th>\n",
       "      <td>4.670472</td>\n",
       "      <td>5.319998</td>\n",
       "      <td>1.219443</td>\n",
       "      <td>1.131826</td>\n",
       "      <td>4.063345</td>\n",
       "    </tr>\n",
       "    <tr>\n",
       "      <th>std</th>\n",
       "      <td>1.346635</td>\n",
       "      <td>1.191076</td>\n",
       "      <td>0.501528</td>\n",
       "      <td>0.353229</td>\n",
       "      <td>1.575838</td>\n",
       "    </tr>\n",
       "    <tr>\n",
       "      <th>min</th>\n",
       "      <td>1.000000</td>\n",
       "      <td>1.000000</td>\n",
       "      <td>1.000000</td>\n",
       "      <td>1.000000</td>\n",
       "      <td>1.000000</td>\n",
       "    </tr>\n",
       "    <tr>\n",
       "      <th>25%</th>\n",
       "      <td>3.739130</td>\n",
       "      <td>4.521739</td>\n",
       "      <td>1.012876</td>\n",
       "      <td>1.021620</td>\n",
       "      <td>2.666667</td>\n",
       "    </tr>\n",
       "    <tr>\n",
       "      <th>50%</th>\n",
       "      <td>4.717391</td>\n",
       "      <td>5.304348</td>\n",
       "      <td>1.064378</td>\n",
       "      <td>1.044817</td>\n",
       "      <td>4.000000</td>\n",
       "    </tr>\n",
       "    <tr>\n",
       "      <th>75%</th>\n",
       "      <td>5.500000</td>\n",
       "      <td>6.086957</td>\n",
       "      <td>1.193133</td>\n",
       "      <td>1.092370</td>\n",
       "      <td>5.333333</td>\n",
       "    </tr>\n",
       "    <tr>\n",
       "      <th>max</th>\n",
       "      <td>10.000000</td>\n",
       "      <td>10.000000</td>\n",
       "      <td>10.000000</td>\n",
       "      <td>10.000000</td>\n",
       "      <td>10.000000</td>\n",
       "    </tr>\n",
       "  </tbody>\n",
       "</table>\n",
       "</div>"
      ],
      "text/plain": [
       "            overall     potential      wage_eur     value_eur           age\n",
       "count  19165.000000  19165.000000  19165.000000  19165.000000  19165.000000\n",
       "mean       4.670472      5.319998      1.219443      1.131826      4.063345\n",
       "std        1.346635      1.191076      0.501528      0.353229      1.575838\n",
       "min        1.000000      1.000000      1.000000      1.000000      1.000000\n",
       "25%        3.739130      4.521739      1.012876      1.021620      2.666667\n",
       "50%        4.717391      5.304348      1.064378      1.044817      4.000000\n",
       "75%        5.500000      6.086957      1.193133      1.092370      5.333333\n",
       "max       10.000000     10.000000     10.000000     10.000000     10.000000"
      ]
     },
     "execution_count": 16,
     "metadata": {},
     "output_type": "execute_result"
    }
   ],
   "source": [
    "data = ((data - data.min()) / (data.max() - data.min())) * 9 + 1 \n",
    "data.describe()"
   ]
  },
  {
   "attachments": {},
   "cell_type": "markdown",
   "metadata": {},
   "source": [
    "2. Initialize random centroids\n",
    "\n",
    "We get random values as centroids using lambda and taking a random number in the dataset for every column. We build a function for that."
   ]
  },
  {
   "cell_type": "code",
   "execution_count": 17,
   "metadata": {},
   "outputs": [],
   "source": [
    "def random_centroids(data, k):\n",
    "    centroids = []\n",
    "    for i in range(k):\n",
    "        centroid = data.apply(lambda x: float(x.sample()))\n",
    "        centroids.append(centroid)\n",
    "\n",
    "    return pd.concat(centroids, axis=1)"
   ]
  },
  {
   "cell_type": "code",
   "execution_count": 8,
   "metadata": {},
   "outputs": [],
   "source": [
    "centroids = random_centroids(data, 5)\n",
    "centroids"
   ]
  },
  {
   "attachments": {},
   "cell_type": "markdown",
   "metadata": {},
   "source": [
    "3. Label each datapoint\n",
    "\n",
    "We link every player with the nearest centroid for every column."
   ]
  },
  {
   "cell_type": "code",
   "execution_count": 18,
   "metadata": {},
   "outputs": [],
   "source": [
    "def get_labels(data, centroids):\n",
    "    distances = centroids.apply(lambda x: np.sqrt(((data - x) **2).sum(axis=1)))\n",
    "\n",
    "    return distances.idxmin(axis=1)"
   ]
  },
  {
   "cell_type": "code",
   "execution_count": 10,
   "metadata": {},
   "outputs": [
    {
     "ename": "NameError",
     "evalue": "name 'centroids' is not defined",
     "output_type": "error",
     "traceback": [
      "\u001b[1;31m---------------------------------------------------------------------------\u001b[0m",
      "\u001b[1;31mNameError\u001b[0m                                 Traceback (most recent call last)",
      "\u001b[1;32m~\\AppData\\Local\\Temp\\ipykernel_23832\\2897317924.py\u001b[0m in \u001b[0;36m<module>\u001b[1;34m\u001b[0m\n\u001b[1;32m----> 1\u001b[1;33m \u001b[0mlabels\u001b[0m \u001b[1;33m=\u001b[0m \u001b[0mget_labels\u001b[0m\u001b[1;33m(\u001b[0m\u001b[0mdata\u001b[0m\u001b[1;33m,\u001b[0m \u001b[0mcentroids\u001b[0m\u001b[1;33m)\u001b[0m\u001b[1;33m\u001b[0m\u001b[1;33m\u001b[0m\u001b[0m\n\u001b[0m\u001b[0;32m      2\u001b[0m \u001b[0mlabels\u001b[0m\u001b[1;33m.\u001b[0m\u001b[0mvalue_counts\u001b[0m\u001b[1;33m(\u001b[0m\u001b[1;33m)\u001b[0m\u001b[1;33m\u001b[0m\u001b[1;33m\u001b[0m\u001b[0m\n",
      "\u001b[1;31mNameError\u001b[0m: name 'centroids' is not defined"
     ]
    }
   ],
   "source": [
    "labels = get_labels(data, centroids)\n",
    "labels.value_counts()"
   ]
  },
  {
   "attachments": {},
   "cell_type": "markdown",
   "metadata": {},
   "source": [
    "4. Update centroids"
   ]
  },
  {
   "cell_type": "code",
   "execution_count": 19,
   "metadata": {},
   "outputs": [],
   "source": [
    "def new_centroids(data, labels, k):\n",
    "    return data.groupby(labels).apply(lambda x: np.exp(np.log(x).mean())).T\n",
    "    "
   ]
  },
  {
   "cell_type": "code",
   "execution_count": 20,
   "metadata": {},
   "outputs": [],
   "source": [
    "from sklearn.decomposition import PCA\n",
    "import matplotlib.pyplot as plt\n",
    "from IPython.display import clear_output"
   ]
  },
  {
   "cell_type": "code",
   "execution_count": 65,
   "metadata": {},
   "outputs": [],
   "source": [
    "def plot_clusters(data, labels, centroids, iteration):\n",
    "    pca = PCA(n_components=2)\n",
    "    data2d = pca.fit_transform(data)\n",
    "    centroids2d = pca.fit_transform(centroids.T)\n",
    "    clear_output(wait=True)\n",
    "    plt.title(f'Iteration {iteration}')\n",
    "    plt.scatter(x=data2d[:,0], y=data2d[:,1], c=labels)\n",
    "    plt.scatter(x=centroids2d[:,0], y=centroids2d[:,1], c='blue', label=centroids.columns.values)\n",
    "    for i, label in enumerate(centroids.columns.values):\n",
    "        plt.text(centroids2d[i, 0]+0.1, centroids2d[i, 1]+0.1, label)\n",
    "    plt.show()\n",
    "    print(centroids)"
   ]
  },
  {
   "attachments": {},
   "cell_type": "markdown",
   "metadata": {},
   "source": [
    "5. Repeat 3 & 4 step and visualizing"
   ]
  },
  {
   "cell_type": "code",
   "execution_count": 66,
   "metadata": {},
   "outputs": [
    {
     "data": {
      "image/png": "[encoded data removed]",
      "text/plain": [
       "<Figure size 432x288 with 1 Axes>"
      ]
     },
     "metadata": {
      "needs_background": "light"
     },
     "output_type": "display_data"
    },
    {
     "name": "stdout",
     "output_type": "stream",
     "text": [
      "                  0         1         2\n",
      "overall    5.806043  4.784633  3.206838\n",
      "potential  6.497993  4.506962  4.928473\n",
      "wage_eur   1.420001  1.118904  1.028505\n",
      "value_eur  1.285501  1.044980  1.026614\n",
      "age        3.596161  5.472247  2.518708\n"
     ]
    }
   ],
   "source": [
    "max_iterations = 100\n",
    "k = 3\n",
    "\n",
    "centroids = random_centroids(data, k)\n",
    "old_centroids = pd.DataFrame()\n",
    "iteration = 1\n",
    "\n",
    "while iteration < max_iterations and not centroids.equals(old_centroids):\n",
    "    old_centroids = centroids\n",
    "    labels = get_labels(data, centroids)\n",
    "    centroids = new_centroids(data, labels, k)\n",
    "    plot_clusters(data, labels, centroids, iteration)\n",
    "    iteration += 1"
   ]
  },
  {
   "cell_type": "code",
   "execution_count": 75,
   "metadata": {},
   "outputs": [
    {
     "data": {
      "text/html": [
       "<div>\n",
       "<style scoped>\n",
       "    .dataframe tbody tr th:only-of-type {\n",
       "        vertical-align: middle;\n",
       "    }\n",
       "\n",
       "    .dataframe tbody tr th {\n",
       "        vertical-align: top;\n",
       "    }\n",
       "\n",
       "    .dataframe thead th {\n",
       "        text-align: right;\n",
       "    }\n",
       "</style>\n",
       "<table border=\"1\" class=\"dataframe\">\n",
       "  <thead>\n",
       "    <tr style=\"text-align: right;\">\n",
       "      <th></th>\n",
       "      <th>short_name</th>\n",
       "      <th>overall</th>\n",
       "      <th>potential</th>\n",
       "      <th>wage_eur</th>\n",
       "      <th>value_eur</th>\n",
       "      <th>age</th>\n",
       "    </tr>\n",
       "  </thead>\n",
       "  <tbody>\n",
       "    <tr>\n",
       "      <th>0</th>\n",
       "      <td>L. Messi</td>\n",
       "      <td>93</td>\n",
       "      <td>93</td>\n",
       "      <td>320000.0</td>\n",
       "      <td>78000000.0</td>\n",
       "      <td>34</td>\n",
       "    </tr>\n",
       "    <tr>\n",
       "      <th>1</th>\n",
       "      <td>R. Lewandowski</td>\n",
       "      <td>92</td>\n",
       "      <td>92</td>\n",
       "      <td>270000.0</td>\n",
       "      <td>119500000.0</td>\n",
       "      <td>32</td>\n",
       "    </tr>\n",
       "    <tr>\n",
       "      <th>2</th>\n",
       "      <td>Cristiano Ronaldo</td>\n",
       "      <td>91</td>\n",
       "      <td>91</td>\n",
       "      <td>270000.0</td>\n",
       "      <td>45000000.0</td>\n",
       "      <td>36</td>\n",
       "    </tr>\n",
       "    <tr>\n",
       "      <th>3</th>\n",
       "      <td>Neymar Jr</td>\n",
       "      <td>91</td>\n",
       "      <td>91</td>\n",
       "      <td>270000.0</td>\n",
       "      <td>129000000.0</td>\n",
       "      <td>29</td>\n",
       "    </tr>\n",
       "    <tr>\n",
       "      <th>4</th>\n",
       "      <td>K. De Bruyne</td>\n",
       "      <td>91</td>\n",
       "      <td>91</td>\n",
       "      <td>350000.0</td>\n",
       "      <td>125500000.0</td>\n",
       "      <td>30</td>\n",
       "    </tr>\n",
       "    <tr>\n",
       "      <th>...</th>\n",
       "      <td>...</td>\n",
       "      <td>...</td>\n",
       "      <td>...</td>\n",
       "      <td>...</td>\n",
       "      <td>...</td>\n",
       "      <td>...</td>\n",
       "    </tr>\n",
       "    <tr>\n",
       "      <th>13245</th>\n",
       "      <td>D. Scarlett</td>\n",
       "      <td>63</td>\n",
       "      <td>86</td>\n",
       "      <td>3000.0</td>\n",
       "      <td>1500000.0</td>\n",
       "      <td>17</td>\n",
       "    </tr>\n",
       "    <tr>\n",
       "      <th>13256</th>\n",
       "      <td>L. Bate</td>\n",
       "      <td>63</td>\n",
       "      <td>83</td>\n",
       "      <td>5000.0</td>\n",
       "      <td>1300000.0</td>\n",
       "      <td>18</td>\n",
       "    </tr>\n",
       "    <tr>\n",
       "      <th>13351</th>\n",
       "      <td>Llabrés</td>\n",
       "      <td>63</td>\n",
       "      <td>81</td>\n",
       "      <td>3000.0</td>\n",
       "      <td>1200000.0</td>\n",
       "      <td>19</td>\n",
       "    </tr>\n",
       "    <tr>\n",
       "      <th>14144</th>\n",
       "      <td>H. Mejbri</td>\n",
       "      <td>62</td>\n",
       "      <td>84</td>\n",
       "      <td>6000.0</td>\n",
       "      <td>1300000.0</td>\n",
       "      <td>18</td>\n",
       "    </tr>\n",
       "    <tr>\n",
       "      <th>14349</th>\n",
       "      <td>R. Lavia</td>\n",
       "      <td>62</td>\n",
       "      <td>85</td>\n",
       "      <td>700.0</td>\n",
       "      <td>1200000.0</td>\n",
       "      <td>17</td>\n",
       "    </tr>\n",
       "  </tbody>\n",
       "</table>\n",
       "<p>5769 rows × 6 columns</p>\n",
       "</div>"
      ],
      "text/plain": [
       "              short_name  overall  potential  wage_eur    value_eur  age\n",
       "0               L. Messi       93         93  320000.0   78000000.0   34\n",
       "1         R. Lewandowski       92         92  270000.0  119500000.0   32\n",
       "2      Cristiano Ronaldo       91         91  270000.0   45000000.0   36\n",
       "3              Neymar Jr       91         91  270000.0  129000000.0   29\n",
       "4           K. De Bruyne       91         91  350000.0  125500000.0   30\n",
       "...                  ...      ...        ...       ...          ...  ...\n",
       "13245        D. Scarlett       63         86    3000.0    1500000.0   17\n",
       "13256            L. Bate       63         83    5000.0    1300000.0   18\n",
       "13351            Llabrés       63         81    3000.0    1200000.0   19\n",
       "14144          H. Mejbri       62         84    6000.0    1300000.0   18\n",
       "14349           R. Lavia       62         85     700.0    1200000.0   17\n",
       "\n",
       "[5769 rows x 6 columns]"
      ]
     },
     "execution_count": 75,
     "metadata": {},
     "output_type": "execute_result"
    }
   ],
   "source": [
    "players[labels == 0][['short_name'] + features]"
   ]
  },
  {
   "attachments": {},
   "cell_type": "markdown",
   "metadata": {},
   "source": [
    "Confronting the results with SKLearn results"
   ]
  },
  {
   "cell_type": "code",
   "execution_count": 77,
   "metadata": {},
   "outputs": [],
   "source": [
    "from sklearn.cluster import KMeans"
   ]
  },
  {
   "cell_type": "code",
   "execution_count": 78,
   "metadata": {},
   "outputs": [
    {
     "data": {
      "text/html": [
       "<div>\n",
       "<style scoped>\n",
       "    .dataframe tbody tr th:only-of-type {\n",
       "        vertical-align: middle;\n",
       "    }\n",
       "\n",
       "    .dataframe tbody tr th {\n",
       "        vertical-align: top;\n",
       "    }\n",
       "\n",
       "    .dataframe thead th {\n",
       "        text-align: right;\n",
       "    }\n",
       "</style>\n",
       "<table border=\"1\" class=\"dataframe\">\n",
       "  <thead>\n",
       "    <tr style=\"text-align: right;\">\n",
       "      <th></th>\n",
       "      <th>0</th>\n",
       "      <th>1</th>\n",
       "      <th>2</th>\n",
       "    </tr>\n",
       "  </thead>\n",
       "  <tbody>\n",
       "    <tr>\n",
       "      <th>overall</th>\n",
       "      <td>4.801913</td>\n",
       "      <td>3.584879</td>\n",
       "      <td>6.206049</td>\n",
       "    </tr>\n",
       "    <tr>\n",
       "      <th>potential</th>\n",
       "      <td>4.502604</td>\n",
       "      <td>5.196108</td>\n",
       "      <td>6.607138</td>\n",
       "    </tr>\n",
       "    <tr>\n",
       "      <th>wage_eur</th>\n",
       "      <td>1.113173</td>\n",
       "      <td>1.039224</td>\n",
       "      <td>1.645467</td>\n",
       "    </tr>\n",
       "    <tr>\n",
       "      <th>value_eur</th>\n",
       "      <td>1.039956</td>\n",
       "      <td>1.035196</td>\n",
       "      <td>1.406856</td>\n",
       "    </tr>\n",
       "    <tr>\n",
       "      <th>age</th>\n",
       "      <td>5.618022</td>\n",
       "      <td>2.709229</td>\n",
       "      <td>4.121045</td>\n",
       "    </tr>\n",
       "  </tbody>\n",
       "</table>\n",
       "</div>"
      ],
      "text/plain": [
       "                  0         1         2\n",
       "overall    4.801913  3.584879  6.206049\n",
       "potential  4.502604  5.196108  6.607138\n",
       "wage_eur   1.113173  1.039224  1.645467\n",
       "value_eur  1.039956  1.035196  1.406856\n",
       "age        5.618022  2.709229  4.121045"
      ]
     },
     "execution_count": 78,
     "metadata": {},
     "output_type": "execute_result"
    }
   ],
   "source": [
    "kmeans = KMeans(3)\n",
    "kmeans.fit(data)\n",
    "centroids = kmeans.cluster_centers_\n",
    "pd.DataFrame(centroids, columns=features).T"
   ]
  }
 ],
 "metadata": {
  "kernelspec": {
   "display_name": "Python 3",
   "language": "python",
   "name": "python3"
  },
  "language_info": {
   "codemirror_mode": {
    "name": "ipython",
    "version": 3
   },
   "file_extension": ".py",
   "mimetype": "text/x-python",
   "name": "python",
   "nbconvert_exporter": "python",
   "pygments_lexer": "ipython3",
   "version": "3.7.12"
  },
  "orig_nbformat": 4
 },
 "nbformat": 4,
 "nbformat_minor": 2
}
